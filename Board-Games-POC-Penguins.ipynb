{
 "cells": [
  {
   "cell_type": "markdown",
   "metadata": {},
   "source": [
    "# PoC-boardgamegeeks\n",
    "\n",
    "Use the \"Run\" button to execute the code."
   ]
  },
  {
   "cell_type": "code",
   "execution_count": null,
   "metadata": {
    "scrolled": true
   },
   "outputs": [],
   "source": [
    "!pip install opendatasets --upgrade --quiet\n",
    "!pip install pandas --upgrade --quiet\n",
    "!pip install pandas-profiling\n"
   ]
  },
  {
   "cell_type": "code",
   "execution_count": null,
   "metadata": {},
   "outputs": [],
   "source": [
    "import opendatasets as od\n",
    "import os\n",
    "import pandas as pd\n",
    "import numpy as np\n",
    "import psycopg2.extras as extras\n",
    "from pandas_profiling import ProfileReport"
   ]
  },
  {
   "cell_type": "markdown",
   "metadata": {},
   "source": [
    "### Retrieving Dataset from Kaggle "
   ]
  },
  {
   "cell_type": "code",
   "execution_count": null,
   "metadata": {},
   "outputs": [],
   "source": [
    "#Setting a variable for the kaggle dataset link\n",
    "dataset_url = 'https://www.kaggle.com/threnjen/board-games-database-from-boardgamegeek' \n"
   ]
  },
  {
   "cell_type": "markdown",
   "metadata": {},
   "source": [
    "#### - You will need a kaggle account and a kaggle key in order to download this data set\n",
    "#### - For the kaggle key, log in to your kaggle account page, scroll down to API - Create New API Token.\n",
    "#### - Download and open the file and your kaggle key will be there."
   ]
  },
  {
   "cell_type": "code",
   "execution_count": null,
   "metadata": {},
   "outputs": [],
   "source": [
    "od.download(dataset_url)"
   ]
  },
  {
   "cell_type": "code",
   "execution_count": null,
   "metadata": {},
   "outputs": [],
   "source": [
    "#Setting a variable to the path of the dataset folder\n",
    "data_dir = './board-games-database-from-boardgamegeek'"
   ]
  },
  {
   "cell_type": "code",
   "execution_count": null,
   "metadata": {},
   "outputs": [],
   "source": [
    "#Listing the contents of the path directory to make sure we have all the cvs files\n",
    "os.listdir(data_dir)"
   ]
  },
  {
   "cell_type": "code",
   "execution_count": null,
   "metadata": {},
   "outputs": [],
   "source": [
    "pd.set_option('display.max_columns', None) #Always show all columns\n",
    "pd.set_option('display.max_rows', 10) #Always show upto 200 rows"
   ]
  },
  {
   "cell_type": "code",
   "execution_count": null,
   "metadata": {},
   "outputs": [],
   "source": [
    "games_raw_df=pd.read_csv('./board-games-database-from-boardgamegeek/games.csv')\n"
   ]
  },
  {
   "cell_type": "markdown",
   "metadata": {},
   "source": [
    "### Examine the column names of the dataset"
   ]
  },
  {
   "cell_type": "code",
   "execution_count": null,
   "metadata": {},
   "outputs": [],
   "source": [
    "games_raw_df.columns\n"
   ]
  },
  {
   "cell_type": "code",
   "execution_count": null,
   "metadata": {},
   "outputs": [],
   "source": [
    "games_raw_df.columns = ['BGGId', 'Name', 'Description', 'YearPublished', 'GameWeight',\n",
    "       'AvgRating', 'BayesAvgRating', 'StdDev', 'MinPlayers', 'MaxPlayers',\n",
    "       'ComAgeRec', 'LanguageEase', 'BestPlayers', 'GoodPlayers', 'NumOwned',\n",
    "       'NumWant', 'NumWish', 'NumWeightVotes', 'MfgPlaytime', 'ComMinPlaytime',\n",
    "       'ComMaxPlaytime', 'MfgAgeRec', 'NumUserRatings', 'NumComments',\n",
    "       'NumAlternates', 'NumExpansions', 'NumImplementations',\n",
    "       'IsReimplementation', 'Family', 'Kickstarted', 'ImagePath',\n",
    "       'RankBoardgame', 'RankStrategygames', 'RankAbstracts',\n",
    "       'RankFamilygames', 'RankThematic', 'RankCgs', 'RankWargames',\n",
    "       'RankPartygames', 'RankChildrensgames', 'CatThematic',\n",
    "       'CatStrategy', 'CatWar', 'CatFamily', 'CatCGS', 'CatAbstract',\n",
    "       'CatParty', 'CatChildrens']"
   ]
  },
  {
   "cell_type": "code",
   "execution_count": null,
   "metadata": {},
   "outputs": [],
   "source": [
    "games_raw_df.describe()"
   ]
  },
  {
   "cell_type": "markdown",
   "metadata": {},
   "source": [
    "##### Dropping unwanted columns"
   ]
  },
  {
   "cell_type": "code",
   "execution_count": null,
   "metadata": {},
   "outputs": [],
   "source": [
    "games_updated_df = games_raw_df.drop(['StdDev',\"ComAgeRec\",\"LanguageEase\",\"GameWeight\",\"BayesAvgRating\",'NumOwned',\n",
    "       'NumWant', 'NumWish', 'NumWeightVotes', 'NumComments',\n",
    "       'NumAlternates', 'NumExpansions', 'NumImplementations',\n",
    "       'IsReimplementation', 'Family', 'Kickstarted', 'ImagePath'], axis = 1) \n"
   ]
  },
  {
   "cell_type": "code",
   "execution_count": null,
   "metadata": {},
   "outputs": [],
   "source": [
    "games_updated_df1 = games_updated_df.round({\"AvgRating\":2}) "
   ]
  },
  {
   "cell_type": "code",
   "execution_count": null,
   "metadata": {},
   "outputs": [],
   "source": [
    "import psycopg2\n",
    "\n",
    "#establish client connection - specify param values\n",
    "conn = psycopg2.connect(\"host=localhost dbname=bgg user=pocuser password=poc123\")\n",
    "\n",
    "#cursor facilitates processing and executing commands such as traverse, add, remove, retrieve in a database\n",
    "cur = conn.cursor()\n",
    "\n",
    "#cur.execute('SELECT * FROM notes')\n",
    "# one = cur.fetchone()\n",
    "# all = cur.fetchall()\n"
   ]
  },
  {
   "cell_type": "markdown",
   "metadata": {},
   "source": [
    "### Create Tables\n"
   ]
  },
  {
   "cell_type": "markdown",
   "metadata": {},
   "source": [
    "#### games_flat columns and descriptions\n",
    "    BGGId\t\t\tBoardGameGeek game ID\n",
    "    Name\t\t\tName of game\n",
    "    YearPublished\tFirst year game published\n",
    "    Category\t\tCategory the game falls under\n",
    "    MfgPlayTime\tManufacturer Stated Play Time\n",
    "    MinPlayers\t\tMinimum number of players\n",
    "    MaxPlayers\t\tMaximun number of players\n",
    "    AvgRatings\t\tAverage user rating for game\n",
    "    MfgAgeRecs\t\tManufacturer Age Recommendation\n",
    "    NumUserRatingss\tNumber of user ratings\n"
   ]
  },
  {
   "cell_type": "code",
   "execution_count": null,
   "metadata": {},
   "outputs": [],
   "source": [
    "#Create the games flat table\n",
    "\n",
    "import psycopg2\n",
    "conn = psycopg2.connect(\"host=localhost dbname=bgg user=pocuser password=poc123\")\n",
    "cur = conn.cursor()\n",
    "cur.execute(\"\"\"\n",
    "    CREATE TABLE games_flat(\n",
    "        bggid INTEGER PRIMARY KEY,\n",
    "        name TEXT,\n",
    "        yearpublished INTEGER,\n",
    "        category TEXT,\n",
    "        mfgplaytime INTEGER,\n",
    "        minplayers INTEGER,\n",
    "        maxplayers INTEGER,\n",
    "        avgrating REAL,\n",
    "        mfgagerec INTEGER,\n",
    "        numuserratings INTEGER\n",
    ")\n",
    "\"\"\")\n",
    "conn.commit()"
   ]
  },
  {
   "cell_type": "code",
   "execution_count": null,
   "metadata": {},
   "outputs": [],
   "source": [
    "#Create the games table\n",
    "\n",
    "import psycopg2\n",
    "conn = psycopg2.connect(\"host=localhost dbname=bgg user=pocuser password=poc123\")\n",
    "cur = conn.cursor()\n",
    "cur.execute(\"\"\"\n",
    "    CREATE TABLE games(\n",
    "        bggid INTEGER PRIMARY KEY,\n",
    "        name TEXT,\n",
    "        yearpublished INTEGER,\n",
    "        mfgagerec INTEGER\n",
    ")\n",
    "\"\"\")\n",
    "conn.commit()"
   ]
  },
  {
   "cell_type": "code",
   "execution_count": null,
   "metadata": {
    "scrolled": true
   },
   "outputs": [],
   "source": [
    "#Create the players table\n",
    "\n",
    "import psycopg2\n",
    "conn = psycopg2.connect(\"host=localhost dbname=bgg user=pocuser password=poc123\")\n",
    "cur = conn.cursor()\n",
    "cur.execute(\"\"\"\n",
    "    CREATE TABLE users(\n",
    "        bggid INTEGER PRIMARY KEY,\n",
    "        minplayers INTEGER,\n",
    "        maxplayers INTEGER\n",
    "        )\n",
    "\"\"\")\n",
    "conn.commit()"
   ]
  },
  {
   "cell_type": "code",
   "execution_count": null,
   "metadata": {},
   "outputs": [],
   "source": [
    "#Create the ratings table\n",
    "\n",
    "import psycopg2\n",
    "conn = psycopg2.connect(\"host=localhost dbname=bgg user=pocuser password=poc123\")\n",
    "cur = conn.cursor()\n",
    "cur.execute(\"\"\"\n",
    "    CREATE TABLE ratings (\n",
    "        bggid INTEGER PRIMARY KEY,\n",
    "        avgrating INTEGER,\n",
    "        numuserratings INTEGER\n",
    ")\n",
    "\"\"\")\n",
    "conn.commit()\n",
    "\n"
   ]
  },
  {
   "cell_type": "code",
   "execution_count": null,
   "metadata": {},
   "outputs": [],
   "source": [
    "#Create the playtime table\n",
    "\n",
    "import psycopg2\n",
    "conn = psycopg2.connect(\"host=localhost dbname=bgg user=pocuser password=poc123\")\n",
    "cur = conn.cursor()\n",
    "cur.execute(\"\"\"\n",
    "    CREATE TABLE playtime(\n",
    "        BGGId INTEGER PRIMARY KEY,\n",
    "        MfgPlaytime INTEGER\n",
    ")\n",
    "\"\"\")\n",
    "conn.commit()"
   ]
  },
  {
   "cell_type": "code",
   "execution_count": null,
   "metadata": {},
   "outputs": [],
   "source": [
    "#Create the playtime table\n",
    "\n",
    "import psycopg2\n",
    "conn = psycopg2.connect(\"host=localhost dbname=bgg user=pocuser password=poc123\")\n",
    "cur = conn.cursor()\n",
    "cur.execute(\"\"\"\n",
    "    CREATE TABLE category(\n",
    "        BGGId INTEGER PRIMARY KEY,\n",
    "        category text\n",
    ")\n",
    "\"\"\")\n",
    "conn.commit()"
   ]
  },
  {
   "cell_type": "markdown",
   "metadata": {},
   "source": [
    "## select_sql() and execute_values() functions"
   ]
  },
  {
   "cell_type": "code",
   "execution_count": null,
   "metadata": {},
   "outputs": [],
   "source": [
    "#defining a function to read the sql query and print out into jupyter notebook\n",
    "\n",
    "def select_sql(sql):\n",
    "    return pd.read_sql(sql, conn)"
   ]
  },
  {
   "cell_type": "code",
   "execution_count": null,
   "metadata": {},
   "outputs": [],
   "source": [
    "#Defining a funtion to export the dataframe from jupter into the postgres database - tables\n",
    "\n",
    "def execute_values(conn, df, table):\n",
    "\n",
    "    #Using psycopg2.extras.execute_values() to insert the dataframe\n",
    "\n",
    "    # Create a list of tupples from the dataframe values\n",
    "    tuples = [tuple(x) for x in df.to_numpy()]\n",
    "    \n",
    "    # Comma-separated dataframe columns\n",
    "    cols = ','.join(list(df.columns))\n",
    "    \n",
    "    # SQL query to execute\n",
    "    query  = \"INSERT INTO %s(%s) VALUES %%s\" % (table, cols)\n",
    "    cursor = conn.cursor()\n",
    "    try:\n",
    "        extras.execute_values(cursor, query, tuples)\n",
    "        conn.commit()\n",
    "    except (Exception, psycopg2.DatabaseError) as error:\n",
    "        print(\"Error: %s\" % error)\n",
    "        conn.rollback()\n",
    "        cursor.close()\n",
    "        return 1\n",
    "    print(\"execute_values() done\")\n",
    "    cursor.close()"
   ]
  },
  {
   "cell_type": "markdown",
   "metadata": {},
   "source": [
    "## Games filtering for creating smaller dataframes"
   ]
  },
  {
   "cell_type": "code",
   "execution_count": null,
   "metadata": {},
   "outputs": [],
   "source": [
    "games_updated_df2 = games_updated_df1.filter(['BGGId'\n",
    "                                              ,'Name'\n",
    "                                              #,'Description'\n",
    "                                              #,'YearPublished'\n",
    "                                              #,'AvgRating'\n",
    "                                              #,'MinPLayer'\n",
    "                                              #,'MaxPlayers'\n",
    "                                              #,'BestPlayers'\n",
    "                                              #,'MfgPlaytime'\n",
    "                                              #,\"ComMinPlaytime\"\n",
    "                                              #,'ComMaxPLaytime'\n",
    "                                              #,'MfgAgeRec'\n",
    "                                              #,'NumUserRatings'\n",
    "                                              #,'RankBoardgame'\n",
    "                                              #,'RankStrategygames'\n",
    "                                              #,'RankAbstracts'\n",
    "                                              #,'RankFamilygames'\n",
    "                                              #,'RankThematic'\n",
    "                                              #,'RankCgs'\n",
    "                                              #,'RankWargames'\n",
    "                                              #,'RankPartygames'\n",
    "                                              #,'RankChildrensgames'\n",
    "                                              ,'CatThematic'\n",
    "                                              ,'CatStrategy'\n",
    "                                              , 'CatWar'\n",
    "                                              , 'CatFamily'\n",
    "                                              , 'CatCGS'\n",
    "                                              , 'CatAbstract'\n",
    "                                              ,'CatParty'\n",
    "                                              , 'CatChildrens'\n",
    "                                             ])"
   ]
  },
  {
   "cell_type": "code",
   "execution_count": null,
   "metadata": {},
   "outputs": [],
   "source": [
    "games_updated_df2"
   ]
  },
  {
   "cell_type": "code",
   "execution_count": null,
   "metadata": {},
   "outputs": [],
   "source": [
    "def from_one_hot_to_category(row, names_array): #take a row of a dataframe and a array of names\n",
    "    cat_array = np.array(row) #interpret the row as an np.array\n",
    "    names_array = [\" \" + s + \",\" for s in names_array] #Add an \" \" at the beginning and a \",\" at the end of every name in names_array\n",
    "    return ''.join(np.repeat(names_array, cat_array)) #Output names_array * cat_array.transpose, whereby string * int = string if int = 1 and 0 else"
   ]
  },
  {
   "cell_type": "code",
   "execution_count": null,
   "metadata": {},
   "outputs": [],
   "source": [
    "category_df = games_updated_df2\n",
    "games_updated_df2['Category'] = games_updated_df2[['CatThematic',\n",
    "       'CatStrategy', 'CatWar', 'CatFamily', 'CatCGS', 'CatAbstract',\n",
    "       'CatParty', 'CatChildrens']].apply(lambda row: from_one_hot_to_category(row, list(row.index)), axis = 1) #apply from_one_hot_to_category rowwise\n",
    "\n",
    "games_updated_df2['Category'] = games_updated_df2['Category'].str[1:-1].str.replace('Cat','') #Get rid of the first \" \" at left hand side and the last \",\" at the right hand side\n",
    "\n",
    "category_df = category_df.merge(games_updated_df2[['BGGId', 'Category']], on = 'BGGId', how = 'left') #Add the new column Category to sub_df"
   ]
  },
  {
   "cell_type": "code",
   "execution_count": null,
   "metadata": {},
   "outputs": [],
   "source": [
    "category_df"
   ]
  },
  {
   "cell_type": "code",
   "execution_count": null,
   "metadata": {},
   "outputs": [],
   "source": [
    "category_df = category_df.drop(['Name','CatThematic', 'CatStrategy', 'CatWar','CatFamily', 'CatAbstract',\"CatCGS\",'CatParty','CatChildrens', \"Category_y\"], axis = 1)"
   ]
  },
  {
   "cell_type": "code",
   "execution_count": null,
   "metadata": {},
   "outputs": [],
   "source": [
    "#df.rename(columns={\"A\": \"a\", \"B\": \"c\"})\n",
    "category_df=category_df.rename(columns={\"Category_x\": \"Category\"})\n",
    "category_df"
   ]
  },
  {
   "cell_type": "code",
   "execution_count": null,
   "metadata": {
    "scrolled": true
   },
   "outputs": [],
   "source": [
    "category_df.Category.unique()"
   ]
  },
  {
   "cell_type": "markdown",
   "metadata": {},
   "source": [
    "### As you can see the categories has a blank category as well as more than one for some, we will clean this up to only look at games with one category only"
   ]
  },
  {
   "cell_type": "code",
   "execution_count": null,
   "metadata": {},
   "outputs": [],
   "source": [
    "category_df.replace('', np.nan, inplace=True)\n",
    "\n",
    "category_df.dropna(subset = ['Category'], inplace=True)\n"
   ]
  },
  {
   "cell_type": "code",
   "execution_count": null,
   "metadata": {},
   "outputs": [],
   "source": [
    "category_df.Category.unique()"
   ]
  },
  {
   "cell_type": "code",
   "execution_count": null,
   "metadata": {},
   "outputs": [],
   "source": [
    "#This options variable is used to select on the one category types\n",
    "\n",
    "options = ['Thematic'\n",
    "           ,'Strategy'\n",
    "           , 'War'\n",
    "           , 'Family'\n",
    "           , 'CGS'\n",
    "           , 'Abstract'\n",
    "           ,'Party'\n",
    "           , 'Childrens']\n",
    "# selecting rows based on condition\n",
    "category_cleaned_df = category_df[category_df['Category'].isin(options)]"
   ]
  },
  {
   "cell_type": "code",
   "execution_count": null,
   "metadata": {},
   "outputs": [],
   "source": [
    "category_cleaned_df.Category.unique()"
   ]
  },
  {
   "cell_type": "code",
   "execution_count": null,
   "metadata": {},
   "outputs": [],
   "source": [
    "games_id_name_year_df = games_updated_df1.filter(['BGGId', 'Name', 'YearPublished'], axis = 1)"
   ]
  },
  {
   "cell_type": "markdown",
   "metadata": {},
   "source": [
    "### Remove any anomalies in the table with the yearpublished as 0. This could have been a place holder."
   ]
  },
  {
   "cell_type": "code",
   "execution_count": null,
   "metadata": {},
   "outputs": [],
   "source": [
    "games_id_name_year_df.replace(0, np.nan, inplace=True)\n",
    "\n",
    "games_id_name_year_df.dropna(subset = ['YearPublished'], inplace=True)"
   ]
  },
  {
   "cell_type": "code",
   "execution_count": null,
   "metadata": {
    "scrolled": true
   },
   "outputs": [],
   "source": [
    "games_id_name_year_df"
   ]
  },
  {
   "cell_type": "markdown",
   "metadata": {},
   "source": [
    "### Convert the year datatype as there seems to be a decimal 0 at the end"
   ]
  },
  {
   "cell_type": "code",
   "execution_count": null,
   "metadata": {},
   "outputs": [],
   "source": [
    "games_id_name_year_df = games_id_name_year_df.convert_dtypes()\n",
    "games_id_name_year_df"
   ]
  },
  {
   "cell_type": "markdown",
   "metadata": {},
   "source": [
    "### Now to merge with the category_cleaned_df"
   ]
  },
  {
   "cell_type": "code",
   "execution_count": null,
   "metadata": {},
   "outputs": [],
   "source": [
    "#df = pd.merge(df1, df2, on=\"ID\")\n",
    "games_id_name_year_cat_df = pd.merge(games_id_name_year_df, category_cleaned_df, on=\"BGGId\",  how=\"inner\")"
   ]
  },
  {
   "cell_type": "code",
   "execution_count": null,
   "metadata": {},
   "outputs": [],
   "source": [
    "games_id_name_year_cat_df"
   ]
  },
  {
   "cell_type": "markdown",
   "metadata": {},
   "source": [
    "### Build the playtime_df in order to clean (remove large play times of 0 and greater than 210 minutes) and merge"
   ]
  },
  {
   "cell_type": "code",
   "execution_count": null,
   "metadata": {},
   "outputs": [],
   "source": [
    "games_id_playtime_df = games_updated_df1.filter(['BGGId', 'MfgPlaytime'], axis = 1)"
   ]
  },
  {
   "cell_type": "code",
   "execution_count": null,
   "metadata": {},
   "outputs": [],
   "source": [
    "games_id_playtime_df.replace(0, np.nan, inplace=True)\n",
    "\n",
    "games_id_playtime_df.dropna(subset = ['MfgPlaytime'], inplace=True)"
   ]
  },
  {
   "cell_type": "code",
   "execution_count": null,
   "metadata": {},
   "outputs": [],
   "source": [
    "games_id_playtime_df2 = games_id_playtime_df[games_id_playtime_df['MfgPlaytime']<210]"
   ]
  },
  {
   "cell_type": "code",
   "execution_count": null,
   "metadata": {},
   "outputs": [],
   "source": [
    "games_id_playtime_df2"
   ]
  },
  {
   "cell_type": "code",
   "execution_count": null,
   "metadata": {},
   "outputs": [],
   "source": [
    "games_id_name_cat_year_playtime_df = pd.merge(games_id_name_year_cat_df, games_id_playtime_df2, on=\"BGGId\",  how=\"inner\")"
   ]
  },
  {
   "cell_type": "code",
   "execution_count": null,
   "metadata": {},
   "outputs": [],
   "source": [
    "games_id_name_cat_year_playtime_df"
   ]
  },
  {
   "cell_type": "code",
   "execution_count": null,
   "metadata": {},
   "outputs": [],
   "source": [
    "games_id_minplayers_df = games_updated_df1.filter(['BGGId', 'MinPlayers'], axis = 1)\n",
    "\n",
    "games_id_minplayers_df.replace(0, np.nan, inplace=True)\n",
    "\n",
    "games_id_minplayers_df.dropna(subset = ['MinPlayers'], inplace=True)\n",
    "\n",
    "games_incypm_df = pd.merge(games_id_name_cat_year_playtime_df, games_id_minplayers_df, on=\"BGGId\",  how=\"inner\")\n",
    "\n",
    "games_incypm_df"
   ]
  },
  {
   "cell_type": "code",
   "execution_count": null,
   "metadata": {},
   "outputs": [],
   "source": [
    "games_id_maxplayers_df = games_updated_df1.filter(['BGGId', 'MaxPlayers'], axis = 1)\n",
    "\n",
    "games_id_maxplayers_df.replace(0, np.nan, inplace=True)\n",
    "\n",
    "games_id_maxplayers_df.dropna(subset = ['MaxPlayers'], inplace=True)\n",
    "\n",
    "games_incypmx_df = pd.merge(games_incypm_df, games_id_maxplayers_df, on=\"BGGId\",  how=\"inner\")\n",
    "\n",
    "games_incypmx2_df = games_incypmx_df[games_incypmx_df['MaxPlayers']<21]\n",
    "\n",
    "games_incypmx2_df"
   ]
  },
  {
   "cell_type": "code",
   "execution_count": null,
   "metadata": {},
   "outputs": [],
   "source": [
    "games_id_ageuser_df = games_updated_df1.filter(['BGGId', 'AvgRating', 'MfgAgeRec', 'NumUserRatings'], axis = 1)\n",
    "\n",
    "games_id_ageuser_df.replace(0, np.nan, inplace=True)\n",
    "\n",
    "games_id_ageuser_df.dropna(subset = ['AvgRating', 'MfgAgeRec','NumUserRatings'], inplace=True)\n",
    "\n",
    "games_cleaner_df = pd.merge(games_incypmx2_df, games_id_ageuser_df, on=\"BGGId\",  how=\"inner\")\n",
    "\n",
    "games_cleaner_df"
   ]
  },
  {
   "cell_type": "markdown",
   "metadata": {},
   "source": [
    "### Here is the flattened and cleaned table which will be used to do some analysis"
   ]
  },
  {
   "cell_type": "code",
   "execution_count": null,
   "metadata": {
    "scrolled": true
   },
   "outputs": [],
   "source": [
    "games_cleaner_df = games_cleaner_df.convert_dtypes()\n",
    "games_cleaner_df"
   ]
  },
  {
   "cell_type": "markdown",
   "metadata": {},
   "source": [
    "### NOW, we can export these dataframes into the postgres tables using the function execute_values defined above"
   ]
  },
  {
   "cell_type": "code",
   "execution_count": null,
   "metadata": {
    "scrolled": true
   },
   "outputs": [],
   "source": [
    "execute_values(conn, games_cleaner_df, 'games_flat')"
   ]
  },
  {
   "cell_type": "markdown",
   "metadata": {},
   "source": [
    "## Do a little profiling with pandas-profiling. Find the report_games.html in your directory or you can view the one in tthe github repository."
   ]
  },
  {
   "cell_type": "code",
   "execution_count": null,
   "metadata": {},
   "outputs": [],
   "source": [
    "profile = ProfileReport(games_cleaner_df, title = 'Games Flattened and Cleaned', explorative= True)\n",
    "#profile.to_notebook_iframe()\n",
    "profile.to_file('report_games.html')"
   ]
  },
  {
   "cell_type": "markdown",
   "metadata": {},
   "source": [
    "### Now lets make sure it has properly loaded into the database. If it has, we can retrieve it from inside this norebook using the select_sql function defined earlier! Don't mind the warning popping up, we just need to see if it works or not."
   ]
  },
  {
   "cell_type": "code",
   "execution_count": null,
   "metadata": {},
   "outputs": [],
   "source": [
    "sql = '''select * from games_flat limit 10'''\n",
    "select_sql(sql)"
   ]
  },
  {
   "cell_type": "markdown",
   "metadata": {},
   "source": [
    "### Now lets chop this cleaned up flat dataframe into smaller dataframes for exporting into the seperate tables"
   ]
  },
  {
   "cell_type": "code",
   "execution_count": null,
   "metadata": {},
   "outputs": [],
   "source": [
    "games_df = games_cleaner_df.filter(['BGGId', 'Name', 'YearPublished', 'MfgAgeRec'])\n",
    "users_df = games_cleaner_df.filter(['BGGId', 'MinPlayers', 'MaxPlayers'])\n",
    "ratings_df = games_cleaner_df.filter(['BGGId', 'AvgRating', 'NumUserRatings'])\n",
    "playtime_df = games_cleaner_df.filter(['BGGId', 'MfgPlaytime'])\n",
    "category_df = games_cleaner_df.filter(['BGGId', 'Category'])\n"
   ]
  },
  {
   "cell_type": "code",
   "execution_count": null,
   "metadata": {
    "scrolled": true
   },
   "outputs": [],
   "source": [
    "execute_values(conn, games_df, 'games')"
   ]
  },
  {
   "cell_type": "code",
   "execution_count": null,
   "metadata": {},
   "outputs": [],
   "source": [
    "execute_values(conn, users_df, 'users')"
   ]
  },
  {
   "cell_type": "code",
   "execution_count": null,
   "metadata": {},
   "outputs": [],
   "source": [
    "execute_values(conn, ratings_df, 'ratings')"
   ]
  },
  {
   "cell_type": "code",
   "execution_count": null,
   "metadata": {
    "scrolled": true
   },
   "outputs": [],
   "source": [
    "execute_values(conn, playtime_df, 'playtime')"
   ]
  },
  {
   "cell_type": "code",
   "execution_count": null,
   "metadata": {},
   "outputs": [],
   "source": [
    "execute_values(conn, category_df, 'category')"
   ]
  },
  {
   "cell_type": "markdown",
   "metadata": {},
   "source": [
    "### Let's Query each one just to be sure"
   ]
  },
  {
   "cell_type": "code",
   "execution_count": null,
   "metadata": {},
   "outputs": [],
   "source": [
    "sql = '''select * from games limit 10'''\n",
    "select_sql(sql)"
   ]
  },
  {
   "cell_type": "code",
   "execution_count": null,
   "metadata": {},
   "outputs": [],
   "source": [
    "sql = '''select * from users limit 10'''\n",
    "select_sql(sql)"
   ]
  },
  {
   "cell_type": "code",
   "execution_count": null,
   "metadata": {},
   "outputs": [],
   "source": [
    "sql = '''select * from playtime limit 10'''\n",
    "select_sql(sql)"
   ]
  },
  {
   "cell_type": "code",
   "execution_count": null,
   "metadata": {},
   "outputs": [],
   "source": [
    "sql = '''select * from category limit 10'''\n",
    "select_sql(sql)"
   ]
  },
  {
   "cell_type": "code",
   "execution_count": null,
   "metadata": {},
   "outputs": [],
   "source": [
    "import psycopg2\n",
    "#establish connection\n",
    "conn = psycopg2.connect(\"host=localhost dbname=bgg user=pocuser password=poc123\")\n",
    "#cursor facilitates processing such as traverse, add, remove, retrieve in a database\n",
    "cur = conn.cursor()\n",
    "cur.execute('SELECT * FROM ratings')\n",
    "\n",
    "one = cur.fetchone()\n",
    "all = cur.fetchall()"
   ]
  },
  {
   "cell_type": "code",
   "execution_count": null,
   "metadata": {},
   "outputs": [],
   "source": [
    "one"
   ]
  },
  {
   "cell_type": "code",
   "execution_count": null,
   "metadata": {},
   "outputs": [],
   "source": []
  }
 ],
 "metadata": {
  "kernelspec": {
   "display_name": "Python 3 (ipykernel)",
   "language": "python",
   "name": "python3"
  },
  "language_info": {
   "codemirror_mode": {
    "name": "ipython",
    "version": 3
   },
   "file_extension": ".py",
   "mimetype": "text/x-python",
   "name": "python",
   "nbconvert_exporter": "python",
   "pygments_lexer": "ipython3",
   "version": "3.10.2"
  }
 },
 "nbformat": 4,
 "nbformat_minor": 2
}
